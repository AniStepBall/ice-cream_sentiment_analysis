{
 "cells": [
  {
   "cell_type": "code",
   "execution_count": 1,
   "id": "8f85a77c",
   "metadata": {},
   "outputs": [],
   "source": [
    "import sys\n",
    "sys.path.append('../src')\n",
    "from data_processing import loading_data, basic_cleaning\n",
    "from feature_engineering import creating_features, extracting_brands, creating_rating"
   ]
  },
  {
   "cell_type": "code",
   "execution_count": 2,
   "metadata": {},
   "outputs": [
    {
     "name": "stdout",
     "output_type": "stream",
     "text": [
      "Started with 21674 reviews\n",
      "After cleaning: 21674 reviews\n"
     ]
    }
   ],
   "source": [
    "reviews, products = loading_data()\n",
    "cleaning_reviews = basic_cleaning(reviews)\n",
    "merging_data = cleaning_reviews.merge(products, on='key', how='left')"
   ]
  },
  {
   "cell_type": "code",
   "execution_count": 3,
   "metadata": {},
   "outputs": [
    {
     "name": "stdout",
     "output_type": "stream",
     "text": [
      "Extracting text features...\n",
      "Extracting Spacy features...\n",
      "Extracting VADER features...\n",
      "clean_text sample: super good, don't get me wrong. but i came for the caramel and brownies, not the sweet cream. the packaging made it seem like brownies were packed and bountiful *crying frowny emoji* i'd say the taste of this was amazing, but the ratio of brownie to sweet cream was disappointing. liked it regardless but probably won't buy again simply because it didn't live up to its promising package. i'll find another one that has a better ratio and wayyy more yummy chewy brownies. overall, good flavor, texture, idea, and brownies. not so great caramel/sweet cream/ brownie ratio. just add more brownies. please.\n",
      "Type: <class 'str'>\n"
     ]
    }
   ],
   "source": [
    "merging_data['clean_text'] = merging_data['clean_text'].astype(str)\n",
    "\n",
    "final_data = creating_features(merging_data)\n",
    "final_data = extracting_brands(final_data)\n",
    "\n",
    "final_data['sentiment_category'] = final_data['rating'].apply(creating_rating)"
   ]
  },
  {
   "cell_type": "code",
   "execution_count": 4,
   "id": "46f8a08a",
   "metadata": {},
   "outputs": [
    {
     "name": "stdout",
     "output_type": "stream",
     "text": [
      "                                          clean_text  text_length  word_count  \\\n",
      "0  super good, don't get me wrong. but i came for...          603         102   \n",
      "1  i decided to try it out although i’m not a hug...          651         129   \n",
      "2  my caramel core begins to disappear about half...          715         140   \n",
      "3  why are people complaining about the blonde br...          565         106   \n",
      "4  this ice cream is worst ice cream i’ve ever ta...          623         120   \n",
      "\n",
      "   spacy_polarity  spacy_subjectivity  vader_compound  vader_positive  \\\n",
      "0        0.276094            0.592989          0.9739           0.289   \n",
      "1        0.064601            0.289146          0.9503           0.167   \n",
      "2        0.037004            0.349603          0.7889           0.090   \n",
      "3        0.224038            0.459615          0.9268           0.137   \n",
      "4       -0.088095            0.549490         -0.4918           0.114   \n",
      "\n",
      "   vader_negative  vader_neutral  \n",
      "0           0.120          0.592  \n",
      "1           0.057          0.776  \n",
      "2           0.030          0.880  \n",
      "3           0.012          0.851  \n",
      "4           0.129          0.757  \n"
     ]
    }
   ],
   "source": [
    "print(final_data[['clean_text', 'text_length', 'word_count', 'spacy_polarity', 'spacy_subjectivity', 'vader_compound', 'vader_positive',  'vader_negative', 'vader_neutral']].head())"
   ]
  },
  {
   "cell_type": "code",
   "execution_count": 7,
   "id": "494c4a3f",
   "metadata": {},
   "outputs": [
    {
     "name": "stdout",
     "output_type": "stream",
     "text": [
      "                                              clean_text  text_length  \\\n",
      "21669  there was no chocolate ice cream in this at al...          133   \n",
      "21670  this ice cream has no flavor at all. no one in...          110   \n",
      "21671  absolutely love this flavor! the only thing th...          104   \n",
      "21672  brilliant combo - love the cheesecake and brow...           84   \n",
      "21673  has a delicious taste with all natural ingredi...           50   \n",
      "\n",
      "       word_count  spacy_polarity  spacy_subjectivity  vader_compound  \\\n",
      "21669          24       -0.780000               0.910         -0.5379   \n",
      "21670          23        0.266667               0.575         -0.5106   \n",
      "21671          18        0.416667               0.700          0.8392   \n",
      "21672          14        0.840625               0.800          0.8975   \n",
      "21673           8        0.550000               0.700          0.7351   \n",
      "\n",
      "       vader_positive  vader_negative  vader_neutral  \n",
      "21669           0.085           0.203          0.713  \n",
      "21670           0.097           0.246          0.657  \n",
      "21671           0.333           0.000          0.667  \n",
      "21672           0.497           0.000          0.503  \n",
      "21673           0.508           0.000          0.492  \n"
     ]
    }
   ],
   "source": [
    "print(final_data[['clean_text', 'text_length', 'word_count', 'spacy_polarity', 'spacy_subjectivity', 'vader_compound', 'vader_positive',  'vader_negative', 'vader_neutral']].tail())"
   ]
  },
  {
   "cell_type": "code",
   "execution_count": 5,
   "metadata": {},
   "outputs": [
    {
     "name": "stdout",
     "output_type": "stream",
     "text": [
      "Feature engineering done!!!\n",
      "Final dataset shape: (21674, 37)\n",
      "Feature columns: ['brand_x', 'key', 'author', 'date', 'stars', 'title', 'helpful_yes', 'helpful_no', 'text', 'taste', 'ingredients_x', 'texture', 'likes', 'clean_text', 'brand_y', 'name', 'subhead', 'description', 'rating', 'rating_count', 'ingredients_y', 'text_length', 'word_count', 'sentence_count', 'exclamation_count', 'question_count', 'capital_ratio', 'spacy_polarity', 'spacy_subjectivity', 'entities_count', 'vader_compound', 'vader_positive', 'vader_negative', 'vader_neutral', 'brand_popularity', 'brand_average', 'sentiment_category']\n"
     ]
    }
   ],
   "source": [
    "final_data.to_csv('../data/processed/feature_dataset.csv', index=False)\n",
    "\n",
    "print(\"Feature engineering done!!!\")\n",
    "print(f\"Final dataset shape: {final_data.shape}\")\n",
    "print(f\"Feature columns: {final_data.columns.tolist()}\")"
   ]
  },
  {
   "cell_type": "code",
   "execution_count": 6,
   "id": "ce4b3fb3",
   "metadata": {},
   "outputs": [
    {
     "name": "stdout",
     "output_type": "stream",
     "text": [
      "Feature Summary:\n",
      "        text_length    word_count  spacy_polarity  spacy_subjectivity\n",
      "count  21674.000000  21674.000000    21674.000000        21674.000000\n",
      "mean     228.280059     42.772585        0.310807            0.591225\n",
      "std      166.591031     31.041878        0.280537            0.175976\n",
      "min       11.000000      1.000000       -1.000000            0.000000\n",
      "25%      117.000000     22.000000        0.138136            0.495833\n",
      "50%      191.000000     36.000000        0.316276            0.600000\n",
      "75%      281.000000     53.000000        0.494444            0.700000\n",
      "max     2975.000000    514.000000        1.000000            1.000000\n",
      "\n",
      "Missing values:\n",
      "brand_x                   0\n",
      "key                       0\n",
      "author                  801\n",
      "date                      0\n",
      "stars                     0\n",
      "title                  5399\n",
      "helpful_yes               0\n",
      "helpful_no                0\n",
      "text                      0\n",
      "taste                 17409\n",
      "ingredients_x         17409\n",
      "texture               17409\n",
      "likes                 19379\n",
      "clean_text                0\n",
      "brand_y                   0\n",
      "name                      0\n",
      "subhead               13731\n",
      "description             535\n",
      "rating                    0\n",
      "rating_count              0\n",
      "ingredients_y             0\n",
      "text_length               0\n",
      "word_count                0\n",
      "sentence_count            0\n",
      "exclamation_count         0\n",
      "question_count            0\n",
      "capital_ratio             0\n",
      "spacy_polarity            0\n",
      "spacy_subjectivity        0\n",
      "entities_count            0\n",
      "vader_compound            0\n",
      "vader_positive            0\n",
      "vader_negative            0\n",
      "vader_neutral             0\n",
      "brand_popularity          0\n",
      "brand_average             0\n",
      "sentiment_category        0\n",
      "dtype: int64\n",
      "\n",
      "Correlation with Ratings\n",
      "rating            1.000000\n",
      "vader_compound    0.256385\n",
      "spacy_polarity    0.239701\n",
      "vader_positive    0.198720\n",
      "word_count       -0.116388\n",
      "text_length      -0.118414\n",
      "Name: rating, dtype: float64\n",
      "\n",
      "Sentiment Methods Comparison:\n",
      "\n",
      "Review: super good, don't get me wrong. but i came for the caramel and brownies, not the sweet cream. the pa...\n",
      "Ratings: 3.7\n",
      "spaCy Polarity: 0.276\n",
      "VADER Compound: 0.974\n",
      "\n",
      "Review: i decided to try it out although i’m not a huge caramel fan, and the first buy was ok, didn’t like t...\n",
      "Ratings: 3.7\n",
      "spaCy Polarity: 0.065\n",
      "VADER Compound: 0.950\n",
      "\n",
      "Review: my caramel core begins to disappear about half way through. i only buy this for the caramel core. th...\n",
      "Ratings: 3.7\n",
      "spaCy Polarity: 0.037\n",
      "VADER Compound: 0.789\n",
      "\n",
      "Review: why are people complaining about the blonde brownies? if you don’t like blonde brownies, get ice cre...\n",
      "Ratings: 3.7\n",
      "spaCy Polarity: 0.224\n",
      "VADER Compound: 0.927\n",
      "\n",
      "Review: this ice cream is worst ice cream i’ve ever tasted. i was beyond excited when i picked it up today a...\n",
      "Ratings: 3.7\n",
      "spaCy Polarity: -0.088\n",
      "VADER Compound: -0.492\n"
     ]
    }
   ],
   "source": [
    "print(\"Feature Summary:\")\n",
    "print(final_data[['text_length', 'word_count', 'spacy_polarity', 'spacy_subjectivity']].describe())\n",
    "\n",
    "print(\"\\nMissing values:\")\n",
    "print(final_data.isnull().sum())\n",
    "\n",
    "numeric_columns = ['rating', 'text_length', 'word_count', 'spacy_polarity', 'vader_compound', 'vader_positive']\n",
    "correlction_matrix = final_data[numeric_columns].corr()\n",
    "print(\"\\nCorrelation with Ratings\")\n",
    "print(correlction_matrix['rating'].sort_values(ascending=False))\n",
    "\n",
    "print(\"\\nSentiment Methods Comparison:\")\n",
    "sample_reviews = final_data.head(5)\n",
    "for idx, row in sample_reviews.iterrows():\n",
    "    print(f\"\\nReview: {row['clean_text'][:100]}...\")\n",
    "    print(f\"Ratings: {row['rating']}\")\n",
    "    print(f\"spaCy Polarity: {row['spacy_polarity']:.3f}\")\n",
    "    print(f\"VADER Compound: {row['vader_compound']:.3f}\")\n"
   ]
  }
 ],
 "metadata": {
  "kernelspec": {
   "display_name": ".venv",
   "language": "python",
   "name": "python3"
  },
  "language_info": {
   "codemirror_mode": {
    "name": "ipython",
    "version": 3
   },
   "file_extension": ".py",
   "mimetype": "text/x-python",
   "name": "python",
   "nbconvert_exporter": "python",
   "pygments_lexer": "ipython3",
   "version": "3.13.5"
  }
 },
 "nbformat": 4,
 "nbformat_minor": 5
}
