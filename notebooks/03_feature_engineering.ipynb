{
 "cells": [
  {
   "cell_type": "code",
   "execution_count": 1,
   "id": "8f85a77c",
   "metadata": {},
   "outputs": [],
   "source": [
    "import sys\n",
    "sys.path.append('../src')\n",
    "from data_processing import load_data, clean_basic_data\n",
    "from feature_engineering import create_all_features, extract_brands, create_rating_category"
   ]
  },
  {
   "cell_type": "code",
   "execution_count": 2,
   "metadata": {},
   "outputs": [
    {
     "name": "stdout",
     "output_type": "stream",
     "text": [
      "Reviews with missing stars: 0\n",
      "Started with 21674 reviews\n",
      "After cleaning: 21674 reviews\n"
     ]
    }
   ],
   "source": [
    "reviews, products = load_data()\n",
    "cleaning_reviews = clean_basic_data(reviews)\n",
    "merging_data = cleaning_reviews.merge(products, on='key', how='left')"
   ]
  },
  {
   "cell_type": "code",
   "execution_count": 3,
   "metadata": {},
   "outputs": [
    {
     "name": "stdout",
     "output_type": "stream",
     "text": [
      "Extracting text features...\n",
      "clean_text sample: super good, don't get me wrong. but i came for the caramel and brownies, not the sweet cream. the packaging made it seem like brownies were packed and bountiful *crying frowny emoji* i'd say the taste of this was amazing, but the ratio of brownie to sweet cream was disappointing. liked it regardless but probably won't buy again simply because it didn't live up to its promising package. i'll find another one that has a better ratio and wayyy more yummy chewy brownies. overall, good flavor, texture, idea, and brownies. not so great caramel/sweet cream/ brownie ratio. just add more brownies. please.\n",
      "Type: <class 'str'>\n"
     ]
    }
   ],
   "source": [
    "\n",
    "merging_data['clean_text'] = merging_data['clean_text'].astype(str)\n",
    "\n",
    "final_data = create_all_features(merging_data)\n",
    "final_data = extract_brands(final_data)\n",
    "\n",
    "final_data['sentiment_category'] = final_data['stars'].apply(create_rating_category)"
   ]
  },
  {
   "cell_type": "code",
   "execution_count": 4,
   "id": "399e0eec",
   "metadata": {},
   "outputs": [
    {
     "name": "stdout",
     "output_type": "stream",
     "text": [
      "sentiment_category\n",
      "positive    17079\n",
      "negative     3535\n",
      "neutral      1060\n",
      "Name: count, dtype: int64\n",
      "sentiment_category\n",
      "positive    0.787995\n",
      "negative    0.163099\n",
      "neutral     0.048907\n",
      "Name: proportion, dtype: float64\n"
     ]
    }
   ],
   "source": [
    "print(final_data['sentiment_category'].value_counts())\n",
    "print(final_data['sentiment_category'].value_counts(normalize=True))"
   ]
  },
  {
   "cell_type": "code",
   "execution_count": 6,
   "id": "46f8a08a",
   "metadata": {},
   "outputs": [
    {
     "name": "stdout",
     "output_type": "stream",
     "text": [
      "                                          clean_text  text_length  word_count\n",
      "0  super good, don't get me wrong. but i came for...          603         102\n",
      "1  i decided to try it out although i’m not a hug...          651         129\n",
      "2  my caramel core begins to disappear about half...          715         140\n",
      "3  why are people complaining about the blonde br...          565         106\n",
      "4  this ice cream is worst ice cream i’ve ever ta...          623         120\n"
     ]
    }
   ],
   "source": [
    "print(final_data[['clean_text', 'text_length', 'word_count']].head())#, 'spacy_polarity', 'spacy_subjectivity', 'vader_compound', 'vader_positive',  'vader_negative', 'vader_neutral']].head())"
   ]
  },
  {
   "cell_type": "code",
   "execution_count": 7,
   "id": "494c4a3f",
   "metadata": {},
   "outputs": [],
   "source": [
    "#print(final_data[['clean_text', 'text_length', 'word_count', 'spacy_polarity', 'spacy_subjectivity', 'vader_compound', 'vader_positive',  'vader_negative', 'vader_neutral']].tail())"
   ]
  },
  {
   "cell_type": "code",
   "execution_count": 8,
   "id": "e72f3de0",
   "metadata": {},
   "outputs": [],
   "source": [
    "final_data = final_data.drop(columns=['title', 'author', 'text', 'subhead', 'description', 'taste', 'ingredients_x', 'ingredients_y','texture', 'likes', 'brand_y'])"
   ]
  },
  {
   "cell_type": "code",
   "execution_count": 9,
   "metadata": {},
   "outputs": [
    {
     "name": "stdout",
     "output_type": "stream",
     "text": [
      "Feature engineering done!!!\n",
      "Final dataset shape: (21674, 20)\n",
      "Feature columns: ['brand_x', 'key', 'date', 'stars', 'helpful_yes', 'helpful_no', 'clean_text', 'name', 'rating', 'rating_count', 'brand_popularity', 'brand_average', 'text_length', 'word_count', 'sentence_count', 'exclamation_count', 'question_count', 'capital_ratio', 'avg_word_length', 'sentiment_category']\n"
     ]
    }
   ],
   "source": [
    "final_data.to_csv('../data/processed/feature_dataset.csv', index=False)\n",
    "\n",
    "print(\"Feature engineering done!!!\")\n",
    "print(f\"Final dataset shape: {final_data.shape}\")\n",
    "print(f\"Feature columns: {final_data.columns.tolist()}\")"
   ]
  },
  {
   "cell_type": "code",
   "execution_count": 13,
   "id": "ce4b3fb3",
   "metadata": {},
   "outputs": [
    {
     "name": "stdout",
     "output_type": "stream",
     "text": [
      "Feature Summary:\n",
      "        text_length    word_count\n",
      "count  21674.000000  21674.000000\n",
      "mean     228.280059     42.772585\n",
      "std      166.591031     31.041878\n",
      "min       11.000000      1.000000\n",
      "25%      117.000000     22.000000\n",
      "50%      191.000000     36.000000\n",
      "75%      281.000000     53.000000\n",
      "max     2975.000000    514.000000\n",
      "\n",
      "Missing values:\n",
      "brand_x               0\n",
      "key                   0\n",
      "date                  0\n",
      "stars                 0\n",
      "helpful_yes           0\n",
      "helpful_no            0\n",
      "clean_text            0\n",
      "name                  0\n",
      "rating                0\n",
      "rating_count          0\n",
      "brand_popularity      0\n",
      "brand_average         0\n",
      "text_length           0\n",
      "word_count            0\n",
      "sentence_count        0\n",
      "exclamation_count     0\n",
      "question_count        0\n",
      "capital_ratio         0\n",
      "avg_word_length       0\n",
      "sentiment_category    0\n",
      "dtype: int64\n",
      "\n",
      "Correlation with Ratings\n",
      "rating         1.000000\n",
      "word_count    -0.116388\n",
      "text_length   -0.118414\n",
      "Name: rating, dtype: float64\n",
      "\n",
      "Sentiment Methods Comparison:\n",
      "\n",
      "Review: super good, don't get me wrong. but i came for the caramel and brownies, not the sweet cream. the pa...\n",
      "Ratings: 3\n",
      "\n",
      "Review: i decided to try it out although i’m not a huge caramel fan, and the first buy was ok, didn’t like t...\n",
      "Ratings: 5\n",
      "\n",
      "Review: my caramel core begins to disappear about half way through. i only buy this for the caramel core. th...\n",
      "Ratings: 3\n",
      "\n",
      "Review: why are people complaining about the blonde brownies? if you don’t like blonde brownies, get ice cre...\n",
      "Ratings: 5\n",
      "\n",
      "Review: this ice cream is worst ice cream i’ve ever tasted. i was beyond excited when i picked it up today a...\n",
      "Ratings: 1\n"
     ]
    }
   ],
   "source": [
    "print(\"Feature Summary:\")\n",
    "print(final_data[['text_length', 'word_count']].describe())#, 'spacy_polarity', 'spacy_subjectivity']].describe())\n",
    "\n",
    "print(\"\\nMissing values:\")\n",
    "print(final_data.isnull().sum())\n",
    "\n",
    "numeric_columns = ['rating', 'text_length', 'word_count']#, 'spacy_polarity', 'vader_compound', 'vader_positive']\n",
    "correlction_matrix = final_data[numeric_columns].corr()\n",
    "print(\"\\nCorrelation with Ratings\")\n",
    "print(correlction_matrix['rating'].sort_values(ascending=False))\n",
    "\n",
    "print(\"\\nSentiment Methods Comparison:\")\n",
    "sample_reviews = final_data.head(5)\n",
    "for idx, row in sample_reviews.iterrows():\n",
    "    print(f\"\\nReview: {row['clean_text'][:100]}...\")\n",
    "    print(f\"Ratings: {row['stars']}\")\n",
    "    #print(f\"spaCy Polarity: {row['spacy_polarity']:.3f}\")\n",
    "    #print(f\"VADER Compound: {row['vader_compound']:.3f}\")\n"
   ]
  }
 ],
 "metadata": {
  "kernelspec": {
   "display_name": ".venv",
   "language": "python",
   "name": "python3"
  },
  "language_info": {
   "codemirror_mode": {
    "name": "ipython",
    "version": 3
   },
   "file_extension": ".py",
   "mimetype": "text/x-python",
   "name": "python",
   "nbconvert_exporter": "python",
   "pygments_lexer": "ipython3",
   "version": "3.13.5"
  }
 },
 "nbformat": 4,
 "nbformat_minor": 5
}
