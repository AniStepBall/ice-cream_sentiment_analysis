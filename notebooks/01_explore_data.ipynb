{
 "cells": [
  {
   "cell_type": "code",
   "execution_count": 1,
   "id": "60a08b82",
   "metadata": {},
   "outputs": [],
   "source": [
    "import pandas as pd\n",
    "import matplotlib.pyplot as plt\n",
    "import seaborn as sns"
   ]
  },
  {
   "cell_type": "code",
   "execution_count": 2,
   "id": "9197367c",
   "metadata": {},
   "outputs": [],
   "source": [
    "reviews = pd.read_csv(\"../data/raw/reviews.csv\")\n",
    "products = pd.read_csv(\"../data/raw/products.csv\")"
   ]
  },
  {
   "cell_type": "code",
   "execution_count": 3,
   "id": "6a478d38",
   "metadata": {},
   "outputs": [
    {
     "name": "stdout",
     "output_type": "stream",
     "text": [
      "Reviews shape: (21674, 13)\n",
      "\n",
      "First 5 reviews:\n",
      "  brand   key          author        date  stars  \\\n",
      "0    bj  0_bj  Ilovebennjerry  2017-04-15      3   \n",
      "1    bj  0_bj   Sweettooth909  2020-01-05      5   \n",
      "2    bj  0_bj       LaTanga71  2018-04-26      3   \n",
      "3    bj  0_bj      chicago220  2018-01-14      5   \n",
      "4    bj  0_bj        Kassidyk  2020-07-24      1   \n",
      "\n",
      "                               title  helpful_yes  helpful_no  \\\n",
      "0               Not enough brownies!         10.0         3.0   \n",
      "1       I’m OBSESSED with this pint!          3.0         0.0   \n",
      "2  My favorite...More Caramel Please          5.0         2.0   \n",
      "3                        Obsessed!!!         24.0         1.0   \n",
      "4              Worst Ice Cream Ever!          1.0         5.0   \n",
      "\n",
      "                                                text  taste  ingredients  \\\n",
      "0  Super good, don't get me wrong. But I came for...    NaN          NaN   \n",
      "1  I decided to try it out although I’m not a hug...    NaN          NaN   \n",
      "2  My caramel core begins to disappear about half...    NaN          NaN   \n",
      "3  Why are people complaining about the blonde br...    NaN          NaN   \n",
      "4  This ice cream is worst ice cream I’ve ever ta...    NaN          NaN   \n",
      "\n",
      "   texture likes  \n",
      "0      NaN   NaN  \n",
      "1      NaN   NaN  \n",
      "2      NaN   NaN  \n",
      "3      NaN   NaN  \n",
      "4      NaN   NaN  \n"
     ]
    }
   ],
   "source": [
    "print(\"Reviews shape:\", reviews.shape)\n",
    "print(\"\\nFirst 5 reviews:\")\n",
    "print(reviews.head())"
   ]
  },
  {
   "cell_type": "code",
   "execution_count": 4,
   "id": "df989f89",
   "metadata": {},
   "outputs": [
    {
     "name": "stdout",
     "output_type": "stream",
     "text": [
      "Products shape: (241, 8)\n",
      "\n",
      "First 5 products:\n",
      "  brand   key                 name  \\\n",
      "0    bj  0_bj  Salted Caramel Core   \n",
      "1    bj  1_bj  Netflix & Chilll'd™   \n",
      "2    bj  2_bj         Chip Happens   \n",
      "3    bj  3_bj              Cannoli   \n",
      "4    bj  4_bj       Gimme S’more!™   \n",
      "\n",
      "                                             subhead  \\\n",
      "0  Sweet Cream Ice Cream with Blonde Brownies & a...   \n",
      "1  Peanut Butter Ice Cream with Sweet & Salty Pre...   \n",
      "2  A Cold Mess of Chocolate Ice Cream with Fudge ...   \n",
      "3  Mascarpone Ice Cream with Fudge-Covered Pastry...   \n",
      "4  Toasted Marshmallow Ice Cream with Chocolate C...   \n",
      "\n",
      "                                         description  rating  rating_count  \\\n",
      "0  Find your way to the ultimate ice cream experi...     3.7           208   \n",
      "1  There’s something for everyone to watch on Net...     4.0           127   \n",
      "2  Sometimes “chip” happens and everything’s a me...     4.7           130   \n",
      "3  As a Limited Batch that captured the rapture o...     3.6            70   \n",
      "4  It’s a gimme: there’s always room for s’more. ...     4.5           281   \n",
      "\n",
      "                                         ingredients  \n",
      "0  CREAM, SKIM MILK, LIQUID SUGAR (SUGAR, WATER),...  \n",
      "1  CREAM, SKIM MILK, LIQUID SUGAR (SUGAR, WATER),...  \n",
      "2  CREAM, LIQUID SUGAR (SUGAR, WATER), SKIM MILK,...  \n",
      "3  CREAM, SKIM MILK, LIQUID SUGAR (SUGAR, WATER),...  \n",
      "4  CREAM, SKIM MILK, WATER, LIQUID SUGAR (SUGAR, ...  \n"
     ]
    }
   ],
   "source": [
    "print(\"Products shape:\", products.shape)\n",
    "print(\"\\nFirst 5 products:\")\n",
    "print(products.head())"
   ]
  },
  {
   "cell_type": "code",
   "execution_count": 5,
   "id": "ef2f8540",
   "metadata": {},
   "outputs": [
    {
     "name": "stdout",
     "output_type": "stream",
     "text": [
      "\n",
      "Missing data in reviews:\n",
      "brand              0\n",
      "key                0\n",
      "author           801\n",
      "date               0\n",
      "stars              0\n",
      "title           5399\n",
      "helpful_yes        0\n",
      "helpful_no         0\n",
      "text               0\n",
      "taste          17409\n",
      "ingredients    17409\n",
      "texture        17409\n",
      "likes          19379\n",
      "dtype: int64\n"
     ]
    }
   ],
   "source": [
    "print(\"\\nMissing data in reviews:\")\n",
    "print(reviews.isnull().sum())"
   ]
  }
 ],
 "metadata": {
  "kernelspec": {
   "display_name": ".venv",
   "language": "python",
   "name": "python3"
  },
  "language_info": {
   "codemirror_mode": {
    "name": "ipython",
    "version": 3
   },
   "file_extension": ".py",
   "mimetype": "text/x-python",
   "name": "python",
   "nbconvert_exporter": "python",
   "pygments_lexer": "ipython3",
   "version": "3.13.5"
  }
 },
 "nbformat": 4,
 "nbformat_minor": 5
}
